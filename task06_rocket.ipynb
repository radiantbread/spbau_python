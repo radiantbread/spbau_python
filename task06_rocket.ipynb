{
 "cells": [
  {
   "cell_type": "markdown",
   "metadata": {},
   "source": [
    "# Модель ракеты\n",
    "Данная модель может описать реактивное движение ракеты с учётом расхода топлива (уравнение Мещерского) и изменения в ускорении свободного падения в зависимости от расстояния от тела до поверхности Земли (если изменить постоянные, можно сделать то же самое для других планет).\n",
    "\n",
    "### Уравнение Мещерского для силы реактивного движения\n",
    "$$\\vec{F}(t) = \\frac{dm}{dt}\\vec{u} \\text{ , где u - относительная скорость истечения газа.}$$\n",
    "\n",
    "### Сила тяжести\n",
    "$$F = \\frac{GmM_{З}}{(R_{З} + y)^{2}}$$"
   ]
  },
  {
   "cell_type": "code",
   "execution_count": 1,
   "metadata": {},
   "outputs": [],
   "source": [
    "import numpy as np\n",
    "\n",
    "DT = 0.001 # Приращение времени\n",
    "G = 6.6743 * 10**(-11) # Гравитационная постоянная\n",
    "EARTH_MASS = 5.972 * 10**24\n",
    "EARTH_RADIUS = 6.371 * 10**6"
   ]
  },
  {
   "cell_type": "code",
   "execution_count": 2,
   "metadata": {},
   "outputs": [],
   "source": [
    "class Body:\n",
    "    def __init__(self, x, y, mass, **kwargs):\n",
    "        \"\"\"\n",
    "        Создать тело.\n",
    "        \n",
    "        Обязательные параметры:\n",
    "        ----------\n",
    "        x: float\n",
    "            горизонтальная координата\n",
    "        y: float\n",
    "            вертикальная координата\n",
    "        mass: float\n",
    "            масса тела\n",
    "        \n",
    "        Дополнительные параметры:\n",
    "        ----------\n",
    "        px: float\n",
    "            горизонтальная составляющая импульса\n",
    "        py: float\n",
    "            вертикальная составляющая импульса\n",
    "        \"\"\"\n",
    "\n",
    "        self.x = x\n",
    "        self.y = y\n",
    "        self.mass = mass\n",
    "\n",
    "        self.px = 0.0\n",
    "        self.py = 0.0\n",
    "        whitelist = ['px', 'py']\n",
    "        for k, v in kwargs.items():\n",
    "            if k in whitelist:\n",
    "                self.setattr(self, k, v)\n",
    "            else:\n",
    "                raise KeyError(\"Invalid keyword parameter \" + v)\n",
    "\n",
    "        self.fx = 0.0\n",
    "        self.fy = 0.0\n",
    "        \n",
    "        self.trajectory_x = []\n",
    "        self.trajectory_y = []\n",
    "\n",
    "    def advance(self):\n",
    "        \"\"\"\n",
    "        Выполнить шаг математической модели и записать координаты для составления траектории.\n",
    "        \"\"\"\n",
    "        \n",
    "        if self.y >= 0: # Остановить движение при нуле.\n",
    "            self.x += self.px / self.mass\n",
    "            self.y += self.py / self.mass\n",
    "        \n",
    "        self.px += self.fx * DT\n",
    "        self.py += self.fy * DT\n",
    "        \n",
    "        self.fy -= G * self.mass * EARTH_MASS / (EARTH_RADIUS + self.y)**2\n",
    "\n",
    "        self.trajectory_x.append(self.x)\n",
    "        self.trajectory_y.append(self.y)"
   ]
  },
  {
   "cell_type": "code",
   "execution_count": 3,
   "metadata": {},
   "outputs": [],
   "source": [
    "class Rocket(Body):\n",
    "\n",
    "    def __init__(self, x, y, rocket_mass, fuel_mass, dm, u, phi, dphi):\n",
    "        \"\"\"\n",
    "        Создать ракету.\n",
    "        \n",
    "        Пареметры:\n",
    "        ----------\n",
    "        x: float\n",
    "            горизонтальная координата\n",
    "        y: float\n",
    "            вертикальная координата\n",
    "        rocket_mass: float\n",
    "            масса ракеты (не включая топливо)\n",
    "        fuel_mass: float\n",
    "            масса топлива\n",
    "        dm: float\n",
    "            расход топлива за единицу времени dt\n",
    "        u: float\n",
    "            относительная скорость истечения газа из ракеты\n",
    "        phi: float\n",
    "            угол между ракетой и осью x\n",
    "        dphi: float\n",
    "            изменение угла между ракетой и осью x за единицу времени dt\n",
    "        \"\"\"\n",
    "        \n",
    "        super().__init__(x, y, rocket_mass + fuel_mass) # Вызовем конструктор предка — тела, т.к. он для ракеты актуален\n",
    "        \n",
    "        self.rocket_mass = rocket_mass\n",
    "        self.fuel_mass = fuel_mass\n",
    "        self.dm = dm\n",
    "        self.u = u\n",
    "        self.phi = phi\n",
    "        self.dphi = dphi\n",
    "\n",
    "    def __burn_fuel(self):\n",
    "        \"\"\"\n",
    "        Внутренний метод для расчёта последствий воздействия внутренних сил ракеты (в первую очередь, реактивное движение).\n",
    "        \"\"\"\n",
    "\n",
    "        f = self.dm/DT * self.u\n",
    "        fx = f * np.cos(self.phi)\n",
    "        fy = f * np.sin(self.phi)\n",
    "\n",
    "        self.fx = fx\n",
    "        self.fy = fy\n",
    "        self.mass -= self.dm\n",
    "        self.phi += self.dphi # Положим, ракета поворачивается.\n",
    "\n",
    "    def advance(self):\n",
    "        \"\"\"\n",
    "        Выполнить шаг математической модели и записать координаты для составления траектории.\n",
    "        \"\"\"\n",
    "        \n",
    "        if self.mass != self.rocket_mass:\n",
    "            self.__burn_fuel()\n",
    "\n",
    "        super().advance() # вызовем метод предка — тела, т.к. и он для ракеты актуален."
   ]
  },
  {
   "cell_type": "code",
   "execution_count": 4,
   "metadata": {},
   "outputs": [],
   "source": [
    "rocket1_stats = {\n",
    "    'x': 0,\n",
    "    'y': 0,\n",
    "    'rocket_mass': 3 * 10**5,\n",
    "    'fuel_mass': 2.5 * 10**5,\n",
    "    'dm': 100,\n",
    "    'u': 4000,\n",
    "    'phi': np.pi/2,\n",
    "    'dphi': -0.0002,\n",
    "}\n",
    "\n",
    "rocket2_stats = {\n",
    "    'x': 4 * 10**6,\n",
    "    'y': 0,\n",
    "    'rocket_mass': 3 * 10**3,\n",
    "    'fuel_mass': 2.5 * 10**3,\n",
    "    'dm': 20,\n",
    "    'u': 900,\n",
    "    'phi': np.pi/1.6,\n",
    "    'dphi': +0.00001,\n",
    "}"
   ]
  },
  {
   "cell_type": "code",
   "execution_count": 5,
   "metadata": {},
   "outputs": [],
   "source": [
    "rocket1 = Rocket(**rocket1_stats)\n",
    "rocket2 = Rocket(**rocket2_stats)\n",
    "\n",
    "bodies = [rocket1, rocket2]\n",
    "\n",
    "for b in bodies:\n",
    "    for t in np.arange(0, 10, DT):\n",
    "        b.advance()\n",
    "    # Делим на 1000, чтобы выразить в километрах\n",
    "    b.trajectory_x = list(map(lambda x: x / 1000, b.trajectory_x))\n",
    "    b.trajectory_y = list(map(lambda y: y / 1000, b.trajectory_y))"
   ]
  },
  {
   "cell_type": "code",
   "execution_count": 6,
   "metadata": {},
   "outputs": [
    {
     "data": {
      "image/png": "[encoded data removed]",
      "text/plain": [
       "<Figure size 640x480 with 1 Axes>"
      ]
     },
     "metadata": {},
     "output_type": "display_data"
    }
   ],
   "source": [
    "%matplotlib inline\n",
    "from matplotlib import pyplot as plt\n",
    "\n",
    "fig, ax = plt.subplots()\n",
    "ax.spines['top'].set_visible(False)\n",
    "ax.spines['right'].set_visible(False)\n",
    "ax.spines['bottom'].set_position(('data', 0.0))\n",
    "ax.axis('equal')\n",
    "for b in bodies: # для всех тел\n",
    "    ax.plot(b.trajectory_x, b.trajectory_y) # нарисуем их траектории\n",
    "    ax.set(xlabel=\"x, км\", ylabel=\"y, км\")"
   ]
  }
 ],
 "metadata": {
  "kernelspec": {
   "display_name": "Python 3",
   "language": "python",
   "name": "python3"
  },
  "language_info": {
   "codemirror_mode": {
    "name": "ipython",
    "version": 3
   },
   "file_extension": ".py",
   "mimetype": "text/x-python",
   "name": "python",
   "nbconvert_exporter": "python",
   "pygments_lexer": "ipython3",
   "version": "3.10.8"
  },
  "orig_nbformat": 4,
  "vscode": {
   "interpreter": {
    "hash": "69712e5f5cc18cdb93e82f18d7bfde9a47d7138efae1f4b87f8f55069ac86612"
   }
  }
 },
 "nbformat": 4,
 "nbformat_minor": 2
}
