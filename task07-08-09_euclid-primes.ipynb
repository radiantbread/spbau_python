{
 "cells": [
  {
   "cell_type": "markdown",
   "metadata": {},
   "source": [
    "# Алгоритм Евклида, расширенный алгоритм Евклида, проверка на простоту\n",
    "\n",
    "## 1. Алгоритм Евклида\n",
    "### Код:"
   ]
  },
  {
   "cell_type": "code",
   "execution_count": 136,
   "metadata": {},
   "outputs": [],
   "source": [
    "def gcd(a, b):\n",
    "    \"\"\"\n",
    "    Returns the greatest common divisor of a and b.\n",
    "    \"\"\"\n",
    "    return a if b == 0 else gcd(b, a % b)"
   ]
  },
  {
   "cell_type": "markdown",
   "metadata": {},
   "source": [
    "### Проверка:"
   ]
  },
  {
   "cell_type": "code",
   "execution_count": 137,
   "metadata": {},
   "outputs": [
    {
     "name": "stdout",
     "output_type": "stream",
     "text": [
      "gcd(0, 1) = 1 : SUCCESS!\n",
      "gcd(1, 0) = 1 : SUCCESS!\n",
      "gcd(5, 13) = 1 : SUCCESS!\n",
      "gcd(24, 36) = 12 : SUCCESS!\n",
      "gcd(-56, 42) = 14 : SUCCESS!\n",
      "gcd(100, 40) = 3 : FAILURE!\n"
     ]
    }
   ],
   "source": [
    "checks = {\n",
    "    (0, 1): 1,\n",
    "    (1, 0): 1,\n",
    "    (5, 13): 1,\n",
    "    (24, 36): 12,\n",
    "    (-56, 42): 14,\n",
    "    (100, 40): 3, # должен провалиться\n",
    "}\n",
    "\n",
    "for k, v in checks.items():\n",
    "    result = gcd(*k)\n",
    "    print(\"gcd\" + str(k), \"=\", v, \": SUCCESS!\" if result == v else \": FAILURE!\")"
   ]
  },
  {
   "cell_type": "markdown",
   "metadata": {},
   "source": [
    "## 2. Расширенный алгоритм Евклида\n",
    "### Код:"
   ]
  },
  {
   "cell_type": "code",
   "execution_count": 138,
   "metadata": {},
   "outputs": [],
   "source": [
    "def egcd(a, b):\n",
    "    \"\"\"\n",
    "    Returns a tuple (d, x, y) where d is gcd(a, b), x and y are coefficients such that d = ax + by.\n",
    "    \"\"\"\n",
    "    if b == 0:\n",
    "        return a, 1, 0\n",
    "    else:\n",
    "        d, x, y = egcd(b, a % b)\n",
    "        return d, y, x - y * (a // b)"
   ]
  },
  {
   "cell_type": "markdown",
   "metadata": {},
   "source": [
    "### Проверка:"
   ]
  },
  {
   "cell_type": "code",
   "execution_count": 139,
   "metadata": {},
   "outputs": [
    {
     "name": "stdout",
     "output_type": "stream",
     "text": [
      "egcd((1, 0)) => 1*1 + 0*0 = 1: SUCCESS!\n",
      "egcd((-3, 40)) => -3*13 + 40*1 = 1: SUCCESS!\n",
      "egcd((10, -4)) => 10*1 + -4*3 = -2: SUCCESS!\n",
      "egcd((10, 10)) => 10*0 + 10*1 = 10: FAILURE!\n",
      "egcd((20, 20)) => 20*0 + 20*1 = 20: SUCCESS!\n"
     ]
    }
   ],
   "source": [
    "checks = {\n",
    "    (1, 0): (1, 1, 0),\n",
    "    (-3, 40): (1, 13, 1),\n",
    "    (10, -4): (-2, 1, 3),\n",
    "    (10, 10): (10, 1, 0),\n",
    "    (20, 20): (20, 0, 1),\n",
    "}\n",
    "# Как можно заметить, при a == b данная реализация алгоритма раскладывает именно по x=0, y=1.\n",
    "\n",
    "for k, v in checks.items():\n",
    "    a, b = k\n",
    "    d, x, y = egcd(a, b)\n",
    "    print(f\"egcd({k}) => {a}*{x} + {b}*{y} = {d}:\", \"SUCCESS!\" if (d, x, y) == v else \"FAILURE!\")"
   ]
  },
  {
   "cell_type": "markdown",
   "metadata": {},
   "source": [
    "## 3. Проверка на простоту\n",
    "Сначала используется тест Ферма, затем, если тест пройден, проверка делением на все числа до $\\sqrt n$.\n",
    "\n",
    "### Код:"
   ]
  },
  {
   "cell_type": "code",
   "execution_count": 140,
   "metadata": {},
   "outputs": [],
   "source": [
    "import random\n",
    "from math import sqrt\n",
    "\n",
    "def fermat_test(n, iters=1):\n",
    "    if n <= 1:\n",
    "        return False\n",
    "    for _ in range(iters):\n",
    "        a = random.randint(2, n-1)\n",
    "        if n % a == 0 or pow(a, n-1, n) != 1:\n",
    "            return False\n",
    "    return True\n",
    "\n",
    "def is_prime(n):\n",
    "    if not fermat_test(n):\n",
    "        return False\n",
    "    for N in range(2, int(sqrt(n)+1)):\n",
    "        if n % N == 0:\n",
    "            return False\n",
    "    return True"
   ]
  },
  {
   "cell_type": "markdown",
   "metadata": {},
   "source": [
    "### Проверка:\n",
    "Как можно заметить, у чисел Кармайкла высокая вероятность пройти тест Ферма."
   ]
  },
  {
   "cell_type": "code",
   "execution_count": 141,
   "metadata": {},
   "outputs": [
    {
     "name": "stdout",
     "output_type": "stream",
     "text": [
      "Проверка составного числа:\n",
      "\tТестом Ферма: False\n",
      "\tПеребором: False\n",
      "Проверка простого числа:\n",
      "\tТестом Ферма: True\n",
      "\tПеребором: True\n",
      "Проверка числа Кармайкла:\n",
      "\tТестом Ферма: True\n",
      "\tПеребором: False\n"
     ]
    }
   ],
   "source": [
    "checks = [2776674642, 2741, 126217]\n",
    "\n",
    "print(f\"Проверка составного числа:\\n\\tТестом Ферма: {fermat_test(checks[0])}\\n\\tПеребором: {is_prime(checks[0])}\")\n",
    "print(f\"Проверка простого числа:\\n\\tТестом Ферма: {fermat_test(checks[1])}\\n\\tПеребором: {is_prime(checks[1])}\")\n",
    "print(f\"Проверка числа Кармайкла:\\n\\tТестом Ферма: {fermat_test(checks[2])}\\n\\tПеребором: {is_prime(checks[2])}\")"
   ]
  }
 ],
 "metadata": {
  "kernelspec": {
   "display_name": "Python 3",
   "language": "python",
   "name": "python3"
  },
  "language_info": {
   "codemirror_mode": {
    "name": "ipython",
    "version": 3
   },
   "file_extension": ".py",
   "mimetype": "text/x-python",
   "name": "python",
   "nbconvert_exporter": "python",
   "pygments_lexer": "ipython3",
   "version": "3.10.8"
  },
  "orig_nbformat": 4,
  "vscode": {
   "interpreter": {
    "hash": "69712e5f5cc18cdb93e82f18d7bfde9a47d7138efae1f4b87f8f55069ac86612"
   }
  }
 },
 "nbformat": 4,
 "nbformat_minor": 2
}
